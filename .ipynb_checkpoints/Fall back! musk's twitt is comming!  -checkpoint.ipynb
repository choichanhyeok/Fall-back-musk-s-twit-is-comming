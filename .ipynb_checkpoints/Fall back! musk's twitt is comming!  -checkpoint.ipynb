{
 "cells": [
  {
   "cell_type": "code",
   "execution_count": 2,
   "id": "38dc6f97",
   "metadata": {},
   "outputs": [],
   "source": [
    "import smtplib  \n",
    "from email.header import Header\n",
    "from email.mime.base import MIMEBase # MIME 프로토콜 활용 기능\n",
    "from email.mime.text import MIMEText # MIME 프로토콜 활용 기능\n",
    "from email.mime.multipart import MIMEMultipart # MIME 프로토콜 활용 기능\n",
    "from email import utils\n",
    "from email import encoders\n",
    "from email.utils import COMMASPACE\n",
    "import os\n",
    "\n",
    "import account # 자신의 gmail ID와 패스워드 저장\n",
    "\n",
    "def send_email(from_user, to_users, cc_users, subject, attachment, text, text_format='plain', smtp_server='smtp.gmail.com', smtp_port=587):\n",
    "    msg = MIMEMultipart('multipart')\n",
    "    msg['FROM'] = from_user\n",
    "    msg['To'] = COMMASPACE.join(to_users)\n",
    "    msg['Cc'] = COMMASPACE.join(cc_users)\n",
    "    msg['Subject'] = Header(s=subject, charset='utf-8')\n",
    "    msg['Date'] = utils.formatdate(localtime=1)\n",
    "\n",
    "    part = MIMEText(text, text_format)\n",
    "    msg.attach(part)\n",
    "\n",
    "    if attachment:\n",
    "        part = MIMEBase('application', \"octet-stream\") #MIME 멀티 프로토콜로 인코딩 해줌. 다양한 정보 아스키로 변환 역할\n",
    "        part.set_payload(open(os.path.basename(attachment), \"rb\").read()) \n",
    "        encoders.encode_base64(part) #base64로 변경\n",
    "        part['Content-Disposition'] = 'attachment; filename=\"%s\"' % os.path.basename(attachment)\n",
    "        msg.attach(part) \n",
    "    try:\n",
    "        server = smtplib.SMTP(smtp_server, smtp_port)\n",
    "        try:\n",
    "            server.ehlo()        #hello 메세지 송신, 설정된 SMTP주소가 정상 동작되는지 확인 위해\n",
    "            server.starttls()    # TLS 프로토콜로 송신할 데이터 암호화\n",
    "            server.login(account.GMAILID, account.GMAILPW) # 로그인\n",
    "            server.sendmail(msg['FROM'], [msg['To'], msg['Cc']], msg.as_string()) #이메일 보내기\n",
    "            print(\"news flash transfer done\")\n",
    "        except:\n",
    "            print(\"[Error] Fail to send news flash\")\n",
    "\n",
    "        finally:\n",
    "            server.quit()  # smtp 연결 종료\n",
    "    except:\n",
    "        print(\"[Error] Fail to connect\")\n",
    "        return False"
   ]
  },
  {
   "cell_type": "code",
   "execution_count": 1,
   "id": "c568d6f4",
   "metadata": {},
   "outputs": [
    {
     "ename": "NameError",
     "evalue": "name 'account' is not defined",
     "output_type": "error",
     "traceback": [
      "\u001b[1;31m---------------------------------------------------------------------------\u001b[0m",
      "\u001b[1;31mNameError\u001b[0m                                 Traceback (most recent call last)",
      "\u001b[1;32m<ipython-input-1-72aa6c32fc1a>\u001b[0m in \u001b[0;36m<module>\u001b[1;34m\u001b[0m\n\u001b[1;32m----> 1\u001b[1;33m \u001b[0mfrom_user\u001b[0m \u001b[1;33m=\u001b[0m \u001b[0maccount\u001b[0m\u001b[1;33m.\u001b[0m\u001b[0mGMAILID\u001b[0m\u001b[1;33m\u001b[0m\u001b[1;33m\u001b[0m\u001b[0m\n\u001b[0m\u001b[0;32m      2\u001b[0m \u001b[0mto_users\u001b[0m \u001b[1;33m=\u001b[0m \u001b[1;33m[\u001b[0m\u001b[1;34m'cksgurwkd12@naver.com'\u001b[0m\u001b[1;33m]\u001b[0m\u001b[1;33m\u001b[0m\u001b[1;33m\u001b[0m\u001b[0m\n\u001b[0;32m      3\u001b[0m \u001b[0mcc_users\u001b[0m \u001b[1;33m=\u001b[0m \u001b[1;33m[\u001b[0m\u001b[0maccount\u001b[0m\u001b[1;33m.\u001b[0m\u001b[0mGMAILID\u001b[0m\u001b[1;33m]\u001b[0m\u001b[1;33m\u001b[0m\u001b[1;33m\u001b[0m\u001b[0m\n\u001b[0;32m      4\u001b[0m \u001b[0msubject\u001b[0m \u001b[1;33m=\u001b[0m \u001b[1;34m'일론머스크가 트윗을 썼어요!!'\u001b[0m\u001b[1;33m\u001b[0m\u001b[1;33m\u001b[0m\u001b[0m\n\u001b[0;32m      5\u001b[0m \u001b[0mf_temp\u001b[0m \u001b[1;33m=\u001b[0m \u001b[0mopen\u001b[0m\u001b[1;33m(\u001b[0m\u001b[1;34m'musk_say.txt'\u001b[0m\u001b[1;33m,\u001b[0m \u001b[1;34m'r'\u001b[0m\u001b[1;33m,\u001b[0m \u001b[0mencoding\u001b[0m\u001b[1;33m=\u001b[0m\u001b[1;34m'utf-8-sig'\u001b[0m\u001b[1;33m)\u001b[0m\u001b[1;33m\u001b[0m\u001b[1;33m\u001b[0m\u001b[0m\n",
      "\u001b[1;31mNameError\u001b[0m: name 'account' is not defined"
     ]
    }
   ],
   "source": [
    "from_user = account.GMAILID\n",
    "to_users = ['cksgurwkd12@naver.com']\n",
    "cc_users = [account.GMAILID]\n",
    "subject = '일론머스크가 트윗을 썼어요!!'\n",
    "f_temp = open('musk_say.txt', 'r', encoding='utf-8-sig')\n",
    "send = f_temp.readlines()\n",
    "text = 'today, 2022-03-15 musk say .......\\n\\n'+ send[0]\n",
    "print(text)\n",
    "\n",
    "print('\\n\\n sending log, to: '+ to_users[0])"
   ]
  },
  {
   "cell_type": "code",
   "execution_count": 4,
   "id": "e7717f43",
   "metadata": {},
   "outputs": [
    {
     "ename": "FileNotFoundError",
     "evalue": "[Errno 2] No such file or directory: 'tmp.csv'",
     "output_type": "error",
     "traceback": [
      "\u001b[1;31m---------------------------------------------------------------------------\u001b[0m",
      "\u001b[1;31mFileNotFoundError\u001b[0m                         Traceback (most recent call last)",
      "\u001b[1;32m<ipython-input-4-73a84d051dd9>\u001b[0m in \u001b[0;36m<module>\u001b[1;34m\u001b[0m\n\u001b[1;32m----> 1\u001b[1;33m \u001b[0msend_email\u001b[0m\u001b[1;33m(\u001b[0m\u001b[0mfrom_user\u001b[0m\u001b[1;33m,\u001b[0m \u001b[0mto_users\u001b[0m\u001b[1;33m,\u001b[0m \u001b[0mcc_users\u001b[0m\u001b[1;33m,\u001b[0m \u001b[0msubject\u001b[0m\u001b[1;33m,\u001b[0m \u001b[0mattachment\u001b[0m\u001b[1;33m,\u001b[0m \u001b[0mtext\u001b[0m\u001b[1;33m,\u001b[0m \u001b[1;34m'html'\u001b[0m\u001b[1;33m)\u001b[0m\u001b[1;33m\u001b[0m\u001b[1;33m\u001b[0m\u001b[0m\n\u001b[0m",
      "\u001b[1;32m<ipython-input-2-e8e4e5b69995>\u001b[0m in \u001b[0;36msend_email\u001b[1;34m(from_user, to_users, cc_users, subject, attachment, text, text_format, smtp_server, smtp_port)\u001b[0m\n\u001b[0;32m     24\u001b[0m     \u001b[1;32mif\u001b[0m \u001b[0mattachment\u001b[0m\u001b[1;33m:\u001b[0m\u001b[1;33m\u001b[0m\u001b[1;33m\u001b[0m\u001b[0m\n\u001b[0;32m     25\u001b[0m         \u001b[0mpart\u001b[0m \u001b[1;33m=\u001b[0m \u001b[0mMIMEBase\u001b[0m\u001b[1;33m(\u001b[0m\u001b[1;34m'application'\u001b[0m\u001b[1;33m,\u001b[0m \u001b[1;34m\"octet-stream\"\u001b[0m\u001b[1;33m)\u001b[0m \u001b[1;31m#MIME 멀티 프로토콜로 인코딩 해줌. 다양한 정보 아스키로 변환 역할\u001b[0m\u001b[1;33m\u001b[0m\u001b[1;33m\u001b[0m\u001b[0m\n\u001b[1;32m---> 26\u001b[1;33m         \u001b[0mpart\u001b[0m\u001b[1;33m.\u001b[0m\u001b[0mset_payload\u001b[0m\u001b[1;33m(\u001b[0m\u001b[0mopen\u001b[0m\u001b[1;33m(\u001b[0m\u001b[0mos\u001b[0m\u001b[1;33m.\u001b[0m\u001b[0mpath\u001b[0m\u001b[1;33m.\u001b[0m\u001b[0mbasename\u001b[0m\u001b[1;33m(\u001b[0m\u001b[0mattachment\u001b[0m\u001b[1;33m)\u001b[0m\u001b[1;33m,\u001b[0m \u001b[1;34m\"rb\"\u001b[0m\u001b[1;33m)\u001b[0m\u001b[1;33m.\u001b[0m\u001b[0mread\u001b[0m\u001b[1;33m(\u001b[0m\u001b[1;33m)\u001b[0m\u001b[1;33m)\u001b[0m\u001b[1;33m\u001b[0m\u001b[1;33m\u001b[0m\u001b[0m\n\u001b[0m\u001b[0;32m     27\u001b[0m         \u001b[0mencoders\u001b[0m\u001b[1;33m.\u001b[0m\u001b[0mencode_base64\u001b[0m\u001b[1;33m(\u001b[0m\u001b[0mpart\u001b[0m\u001b[1;33m)\u001b[0m \u001b[1;31m#base64로 변경\u001b[0m\u001b[1;33m\u001b[0m\u001b[1;33m\u001b[0m\u001b[0m\n\u001b[0;32m     28\u001b[0m         \u001b[0mpart\u001b[0m\u001b[1;33m[\u001b[0m\u001b[1;34m'Content-Disposition'\u001b[0m\u001b[1;33m]\u001b[0m \u001b[1;33m=\u001b[0m \u001b[1;34m'attachment; filename=\"%s\"'\u001b[0m \u001b[1;33m%\u001b[0m \u001b[0mos\u001b[0m\u001b[1;33m.\u001b[0m\u001b[0mpath\u001b[0m\u001b[1;33m.\u001b[0m\u001b[0mbasename\u001b[0m\u001b[1;33m(\u001b[0m\u001b[0mattachment\u001b[0m\u001b[1;33m)\u001b[0m\u001b[1;33m\u001b[0m\u001b[1;33m\u001b[0m\u001b[0m\n",
      "\u001b[1;31mFileNotFoundError\u001b[0m: [Errno 2] No such file or directory: 'tmp.csv'"
     ]
    }
   ],
   "source": [
    "send_email(from_user, to_users, cc_users, subject, attachment, text, 'html')"
   ]
  },
  {
   "cell_type": "code",
   "execution_count": null,
   "id": "1e817a98",
   "metadata": {},
   "outputs": [],
   "source": []
  },
  {
   "cell_type": "code",
   "execution_count": null,
   "id": "09ee630f",
   "metadata": {},
   "outputs": [],
   "source": []
  },
  {
   "cell_type": "code",
   "execution_count": 9,
   "id": "2d530521",
   "metadata": {},
   "outputs": [
    {
     "name": "stderr",
     "output_type": "stream",
     "text": [
      "<ipython-input-9-616ad34d145f>:36: DeprecationWarning: find_element_by_* commands are deprecated. Please use find_element() instead\n",
      "  pw_field = driver.find_element_by_css_selector(InPassword_id)\n",
      "<ipython-input-9-616ad34d145f>:40: DeprecationWarning: find_element_by_* commands are deprecated. Please use find_element() instead\n",
      "  loginButton_tag2 = driver.find_element_by_xpath(loginButton2)\n",
      "<ipython-input-9-616ad34d145f>:47: DeprecationWarning: find_element_by_* commands are deprecated. Please use find_element() instead\n",
      "  profile_button = driver.find_element_by_xpath(profile_xpath)\n"
     ]
    },
    {
     "ename": "WebDriverException",
     "evalue": "Message: chrome not reachable\n  (Session info: chrome=99.0.4844.51)\nStacktrace:\nBacktrace:\n\tOrdinal0 [0x00B39943+2595139]\n\tOrdinal0 [0x00ACC9F1+2148849]\n\tOrdinal0 [0x009C43F0+1065968]\n\tOrdinal0 [0x009B87C2+1017794]\n\tOrdinal0 [0x009B8FF8+1019896]\n\tOrdinal0 [0x009BA892+1026194]\n\tOrdinal0 [0x009B4219+999961]\n\tOrdinal0 [0x009C5860+1071200]\n\tOrdinal0 [0x00A1B2D2+1422034]\n\tOrdinal0 [0x00A0B806+1357830]\n\tOrdinal0 [0x009E6086+1204358]\n\tOrdinal0 [0x009E6F96+1208214]\n\tGetHandleVerifier [0x00CDB232+1658114]\n\tGetHandleVerifier [0x00D9312C+2411516]\n\tGetHandleVerifier [0x00BCF261+560433]\n\tGetHandleVerifier [0x00BCE366+556598]\n\tOrdinal0 [0x00AD286B+2173035]\n\tOrdinal0 [0x00AD75F8+2192888]\n\tOrdinal0 [0x00AD76E5+2193125]\n\tOrdinal0 [0x00AE11FC+2232828]\n\tBaseThreadInitThunk [0x76E0FA29+25]\n\tRtlGetAppContainerNamedObjectPath [0x778B7A7E+286]\n\tRtlGetAppContainerNamedObjectPath [0x778B7A4E+238]\n",
     "output_type": "error",
     "traceback": [
      "\u001b[1;31m---------------------------------------------------------------------------\u001b[0m",
      "\u001b[1;31mWebDriverException\u001b[0m                        Traceback (most recent call last)",
      "\u001b[1;32m<ipython-input-9-616ad34d145f>\u001b[0m in \u001b[0;36m<module>\u001b[1;34m\u001b[0m\n\u001b[0;32m     45\u001b[0m \u001b[0mtime\u001b[0m\u001b[1;33m.\u001b[0m\u001b[0msleep\u001b[0m\u001b[1;33m(\u001b[0m\u001b[1;36m5\u001b[0m\u001b[1;33m)\u001b[0m\u001b[1;33m\u001b[0m\u001b[1;33m\u001b[0m\u001b[0m\n\u001b[0;32m     46\u001b[0m \u001b[0mprofile_xpath\u001b[0m \u001b[1;33m=\u001b[0m \u001b[1;34m'/html/body/div[1]/div/div/div[2]/header/div/div/div/div[1]/div[2]/nav/a[7]'\u001b[0m\u001b[1;33m\u001b[0m\u001b[1;33m\u001b[0m\u001b[0m\n\u001b[1;32m---> 47\u001b[1;33m \u001b[0mprofile_button\u001b[0m \u001b[1;33m=\u001b[0m \u001b[0mdriver\u001b[0m\u001b[1;33m.\u001b[0m\u001b[0mfind_element_by_xpath\u001b[0m\u001b[1;33m(\u001b[0m\u001b[0mprofile_xpath\u001b[0m\u001b[1;33m)\u001b[0m\u001b[1;33m\u001b[0m\u001b[1;33m\u001b[0m\u001b[0m\n\u001b[0m\u001b[0;32m     48\u001b[0m \u001b[0mprofile_button\u001b[0m\u001b[1;33m.\u001b[0m\u001b[0mclick\u001b[0m\u001b[1;33m(\u001b[0m\u001b[1;33m)\u001b[0m\u001b[1;33m\u001b[0m\u001b[1;33m\u001b[0m\u001b[0m\n\u001b[0;32m     49\u001b[0m \u001b[1;33m\u001b[0m\u001b[0m\n",
      "\u001b[1;32m~\\Anaconda3\\lib\\site-packages\\selenium\\webdriver\\remote\\webdriver.py\u001b[0m in \u001b[0;36mfind_element_by_xpath\u001b[1;34m(self, xpath)\u001b[0m\n\u001b[0;32m    512\u001b[0m             \u001b[0mstacklevel\u001b[0m\u001b[1;33m=\u001b[0m\u001b[1;36m2\u001b[0m\u001b[1;33m,\u001b[0m\u001b[1;33m\u001b[0m\u001b[1;33m\u001b[0m\u001b[0m\n\u001b[0;32m    513\u001b[0m         )\n\u001b[1;32m--> 514\u001b[1;33m         \u001b[1;32mreturn\u001b[0m \u001b[0mself\u001b[0m\u001b[1;33m.\u001b[0m\u001b[0mfind_element\u001b[0m\u001b[1;33m(\u001b[0m\u001b[0mby\u001b[0m\u001b[1;33m=\u001b[0m\u001b[0mBy\u001b[0m\u001b[1;33m.\u001b[0m\u001b[0mXPATH\u001b[0m\u001b[1;33m,\u001b[0m \u001b[0mvalue\u001b[0m\u001b[1;33m=\u001b[0m\u001b[0mxpath\u001b[0m\u001b[1;33m)\u001b[0m\u001b[1;33m\u001b[0m\u001b[1;33m\u001b[0m\u001b[0m\n\u001b[0m\u001b[0;32m    515\u001b[0m \u001b[1;33m\u001b[0m\u001b[0m\n\u001b[0;32m    516\u001b[0m     \u001b[1;32mdef\u001b[0m \u001b[0mfind_elements_by_xpath\u001b[0m\u001b[1;33m(\u001b[0m\u001b[0mself\u001b[0m\u001b[1;33m,\u001b[0m \u001b[0mxpath\u001b[0m\u001b[1;33m)\u001b[0m \u001b[1;33m->\u001b[0m \u001b[0mWebElement\u001b[0m\u001b[1;33m:\u001b[0m\u001b[1;33m\u001b[0m\u001b[1;33m\u001b[0m\u001b[0m\n",
      "\u001b[1;32m~\\Anaconda3\\lib\\site-packages\\selenium\\webdriver\\remote\\webdriver.py\u001b[0m in \u001b[0;36mfind_element\u001b[1;34m(self, by, value)\u001b[0m\n\u001b[0;32m   1236\u001b[0m             \u001b[0mvalue\u001b[0m \u001b[1;33m=\u001b[0m \u001b[1;34m'[name=\"%s\"]'\u001b[0m \u001b[1;33m%\u001b[0m \u001b[0mvalue\u001b[0m\u001b[1;33m\u001b[0m\u001b[1;33m\u001b[0m\u001b[0m\n\u001b[0;32m   1237\u001b[0m \u001b[1;33m\u001b[0m\u001b[0m\n\u001b[1;32m-> 1238\u001b[1;33m         return self.execute(Command.FIND_ELEMENT, {\n\u001b[0m\u001b[0;32m   1239\u001b[0m             \u001b[1;34m'using'\u001b[0m\u001b[1;33m:\u001b[0m \u001b[0mby\u001b[0m\u001b[1;33m,\u001b[0m\u001b[1;33m\u001b[0m\u001b[1;33m\u001b[0m\u001b[0m\n\u001b[0;32m   1240\u001b[0m             'value': value})['value']\n",
      "\u001b[1;32m~\\Anaconda3\\lib\\site-packages\\selenium\\webdriver\\remote\\webdriver.py\u001b[0m in \u001b[0;36mexecute\u001b[1;34m(self, driver_command, params)\u001b[0m\n\u001b[0;32m    416\u001b[0m         \u001b[0mresponse\u001b[0m \u001b[1;33m=\u001b[0m \u001b[0mself\u001b[0m\u001b[1;33m.\u001b[0m\u001b[0mcommand_executor\u001b[0m\u001b[1;33m.\u001b[0m\u001b[0mexecute\u001b[0m\u001b[1;33m(\u001b[0m\u001b[0mdriver_command\u001b[0m\u001b[1;33m,\u001b[0m \u001b[0mparams\u001b[0m\u001b[1;33m)\u001b[0m\u001b[1;33m\u001b[0m\u001b[1;33m\u001b[0m\u001b[0m\n\u001b[0;32m    417\u001b[0m         \u001b[1;32mif\u001b[0m \u001b[0mresponse\u001b[0m\u001b[1;33m:\u001b[0m\u001b[1;33m\u001b[0m\u001b[1;33m\u001b[0m\u001b[0m\n\u001b[1;32m--> 418\u001b[1;33m             \u001b[0mself\u001b[0m\u001b[1;33m.\u001b[0m\u001b[0merror_handler\u001b[0m\u001b[1;33m.\u001b[0m\u001b[0mcheck_response\u001b[0m\u001b[1;33m(\u001b[0m\u001b[0mresponse\u001b[0m\u001b[1;33m)\u001b[0m\u001b[1;33m\u001b[0m\u001b[1;33m\u001b[0m\u001b[0m\n\u001b[0m\u001b[0;32m    419\u001b[0m             response['value'] = self._unwrap_value(\n\u001b[0;32m    420\u001b[0m                 response.get('value', None))\n",
      "\u001b[1;32m~\\Anaconda3\\lib\\site-packages\\selenium\\webdriver\\remote\\errorhandler.py\u001b[0m in \u001b[0;36mcheck_response\u001b[1;34m(self, response)\u001b[0m\n\u001b[0;32m    241\u001b[0m                 \u001b[0malert_text\u001b[0m \u001b[1;33m=\u001b[0m \u001b[0mvalue\u001b[0m\u001b[1;33m[\u001b[0m\u001b[1;34m'alert'\u001b[0m\u001b[1;33m]\u001b[0m\u001b[1;33m.\u001b[0m\u001b[0mget\u001b[0m\u001b[1;33m(\u001b[0m\u001b[1;34m'text'\u001b[0m\u001b[1;33m)\u001b[0m\u001b[1;33m\u001b[0m\u001b[1;33m\u001b[0m\u001b[0m\n\u001b[0;32m    242\u001b[0m             \u001b[1;32mraise\u001b[0m \u001b[0mexception_class\u001b[0m\u001b[1;33m(\u001b[0m\u001b[0mmessage\u001b[0m\u001b[1;33m,\u001b[0m \u001b[0mscreen\u001b[0m\u001b[1;33m,\u001b[0m \u001b[0mstacktrace\u001b[0m\u001b[1;33m,\u001b[0m \u001b[0malert_text\u001b[0m\u001b[1;33m)\u001b[0m  \u001b[1;31m# type: ignore[call-arg]  # mypy is not smart enough here\u001b[0m\u001b[1;33m\u001b[0m\u001b[1;33m\u001b[0m\u001b[0m\n\u001b[1;32m--> 243\u001b[1;33m         \u001b[1;32mraise\u001b[0m \u001b[0mexception_class\u001b[0m\u001b[1;33m(\u001b[0m\u001b[0mmessage\u001b[0m\u001b[1;33m,\u001b[0m \u001b[0mscreen\u001b[0m\u001b[1;33m,\u001b[0m \u001b[0mstacktrace\u001b[0m\u001b[1;33m)\u001b[0m\u001b[1;33m\u001b[0m\u001b[1;33m\u001b[0m\u001b[0m\n\u001b[0m\u001b[0;32m    244\u001b[0m \u001b[1;33m\u001b[0m\u001b[0m\n\u001b[0;32m    245\u001b[0m     \u001b[1;32mdef\u001b[0m \u001b[0m_value_or_default\u001b[0m\u001b[1;33m(\u001b[0m\u001b[0mself\u001b[0m\u001b[1;33m,\u001b[0m \u001b[0mobj\u001b[0m\u001b[1;33m:\u001b[0m \u001b[0mMapping\u001b[0m\u001b[1;33m[\u001b[0m\u001b[0m_KT\u001b[0m\u001b[1;33m,\u001b[0m \u001b[0m_VT\u001b[0m\u001b[1;33m]\u001b[0m\u001b[1;33m,\u001b[0m \u001b[0mkey\u001b[0m\u001b[1;33m:\u001b[0m \u001b[0m_KT\u001b[0m\u001b[1;33m,\u001b[0m \u001b[0mdefault\u001b[0m\u001b[1;33m:\u001b[0m \u001b[0m_VT\u001b[0m\u001b[1;33m)\u001b[0m \u001b[1;33m->\u001b[0m \u001b[0m_VT\u001b[0m\u001b[1;33m:\u001b[0m\u001b[1;33m\u001b[0m\u001b[1;33m\u001b[0m\u001b[0m\n",
      "\u001b[1;31mWebDriverException\u001b[0m: Message: chrome not reachable\n  (Session info: chrome=99.0.4844.51)\nStacktrace:\nBacktrace:\n\tOrdinal0 [0x00B39943+2595139]\n\tOrdinal0 [0x00ACC9F1+2148849]\n\tOrdinal0 [0x009C43F0+1065968]\n\tOrdinal0 [0x009B87C2+1017794]\n\tOrdinal0 [0x009B8FF8+1019896]\n\tOrdinal0 [0x009BA892+1026194]\n\tOrdinal0 [0x009B4219+999961]\n\tOrdinal0 [0x009C5860+1071200]\n\tOrdinal0 [0x00A1B2D2+1422034]\n\tOrdinal0 [0x00A0B806+1357830]\n\tOrdinal0 [0x009E6086+1204358]\n\tOrdinal0 [0x009E6F96+1208214]\n\tGetHandleVerifier [0x00CDB232+1658114]\n\tGetHandleVerifier [0x00D9312C+2411516]\n\tGetHandleVerifier [0x00BCF261+560433]\n\tGetHandleVerifier [0x00BCE366+556598]\n\tOrdinal0 [0x00AD286B+2173035]\n\tOrdinal0 [0x00AD75F8+2192888]\n\tOrdinal0 [0x00AD76E5+2193125]\n\tOrdinal0 [0x00AE11FC+2232828]\n\tBaseThreadInitThunk [0x76E0FA29+25]\n\tRtlGetAppContainerNamedObjectPath [0x778B7A7E+286]\n\tRtlGetAppContainerNamedObjectPath [0x778B7A4E+238]\n"
     ]
    }
   ],
   "source": [
    "from selenium import webdriver\n",
    "from selenium.webdriver.support.ui import WebDriverWait\n",
    "from selenium.webdriver.common.keys import Keys\n",
    "from selenium.webdriver.common.by import By\n",
    "from selenium.webdriver.support import expected_conditions as EC\n",
    "from selenium.common.exceptions import TimeoutException\n",
    "import time\n",
    "\n",
    "#######################################################################################################################\n",
    "# 셀레니움 셋업 #\n",
    "#######################################################################################################################\n",
    "chromedriver = 'chromedriver'           # 크롬 드라이버 상대경로로 할당 #\n",
    "driver = webdriver.Chrome(chromedriver) # 할당 된 크롬 드라이버를 dirver에 할당 # \n",
    "\n",
    "driver.get('https://twitter.com/i/flow/login') # 인스타 주소를 driver 올려준다 #\n",
    "SCROLL_PAUSE_SEC = 2\n",
    "\n",
    "# 인스타 계정 Login 정보 #\n",
    "username = 'chanhyeoKing'\n",
    "password = 'slqlrjf15$!'\n",
    "# 로그인 입력 창 및 버튼 Xapth 주소 #\n",
    "InEmail_id = \"//*[@id=\\\"layers\\\"]/div/div/div/div/div/div/div[2]/div[2]/div/div/div[2]/div[2]/div[1]/div/div/div[5]/label/div/div[2]/div/input\"\n",
    "InPassword_id = \"#layers > div > div > div > div > div > div > div.css-1dbjc4n.r-1awozwy.r-18u37iz.r-1pi2tsx.r-1777fci.r-1xcajam.r-ipm5af.r-g6jmlv > div.css-1dbjc4n.r-1867qdf.r-1wbh5a2.r-kwpbio.r-rsyp9y.r-1pjcn9w.r-1279nm1.r-htvplk.r-1udh08x > div > div > div.css-1dbjc4n.r-kemksi.r-6koalj.r-16y2uox.r-1wbh5a2 > div.css-1dbjc4n.r-16y2uox.r-1wbh5a2.r-1jgb5lz.r-1ye8kvj.r-13qz1uu > div.css-1dbjc4n.r-16y2uox.r-1wbh5a2.r-1dqxon3 > div > div > div.css-1dbjc4n.r-mk0yit.r-13qz1uu > div > label > div > div.css-1dbjc4n.r-18u37iz.r-16y2uox.r-1wbh5a2.r-1wzrnnt.r-1udh08x.r-xd6kpl.r-1pn2ns4.r-ttdzmv > div.css-901oao.r-1awozwy.r-1fmj7o5.r-6koalj.r-37j5jr.r-1inkyih.r-16dba41.r-135wba7.r-bcqeeo.r-13qz1uu.r-qvutc0 > input\"\n",
    "loginButton = \"//*[@id=\\\"layers\\\"]/div/div/div/div/div/div/div[2]/div[2]/div/div/div[2]/div[2]/div[1]/div/div/div[6]\"\n",
    "loginButton2 = \"/html/body/div/div/div/div[1]/div/div/div/div/div/div/div[2]/div[2]/div/div/div[2]/div[2]/div[2]/div/div[1]\"\n",
    "\n",
    "# 4초간 기다린 후 각각의 로그인 필드들을 동기화 해준다 #\n",
    "id_field = WebDriverWait(driver, 4).until(EC.presence_of_element_located((By.XPATH, InEmail_id))) # ID INPUT 지정 #\n",
    "id_field.clear() # ID 칸 비우기 #\n",
    "id_field.send_keys(username) # ID 입력: ID에 담긴 데이터 전달 #\n",
    "\n",
    "loginButton_tag = WebDriverWait(driver, 3).until(EC.presence_of_element_located((By.XPATH, loginButton))) # Login 버튼지정 #\n",
    "loginButton_tag.click() # 로그인 버튼 클릭 #\n",
    "\n",
    "time.sleep(4)\n",
    "pw_field = driver.find_element_by_css_selector(InPassword_id)\n",
    "pw_field.clear() # 비밀번호 칸 비우기 #\n",
    "time.sleep(2)\n",
    "pw_field.send_keys(password) # 비밀번호 입력: password에 담긴 데이터 전달 #\n",
    "loginButton_tag2 = driver.find_element_by_xpath(loginButton2)\n",
    "loginButton_tag2.click() # 로그인 버튼 클릭 #\n",
    "\n",
    "\n",
    "# 일론머스크 트위터 찾아가기 #\n",
    "time.sleep(5)\n",
    "profile_xpath = '/html/body/div[1]/div/div/div[2]/header/div/div/div/div[1]/div[2]/nav/a[7]'\n",
    "profile_button = driver.find_element_by_xpath(profile_xpath)\n",
    "profile_button.click()\n",
    "\n",
    "time.sleep(3)\n",
    "follow_xpath = '/html/body/div[1]/div/div/div[2]/main/div/div/div/div[1]/div/div[2]/div/div/div/div[2]/div[5]/div[1]/a' \n",
    "follow_button = driver.find_element_by_xpath(follow_xpath)\n",
    "follow_button.click()\n",
    "\n",
    "time.sleep(5)\n",
    "musk_xpath = '/html/body/div[1]/div/div/div[2]/main/div/div/div/div[1]/div/section/div/div/div[1]'\n",
    "musk_button = driver.find_element_by_xpath(musk_xpath)\n",
    "musk_button.click()\n",
    "\n",
    "time.sleep(5)\n",
    "musk_tweet_xpath = '/html/body/div[1]/div/div/div[2]/main/div/div/div/div[1]/div/div[2]/div/div/section/div/div/div[1]/div/div/article/div/div/div/div[2]/div[2]/div[2]/div[2]/div'\n",
    "musk_tweet_log = driver.find_element_by_xpath(musk_tweet_xpath)\n",
    "\n",
    "send = musk_tweet_log.text\n",
    "print(send)\n",
    "\n",
    "f_temp = open('musk_say.txt', 'w', encoding='utf-8-sig')\n",
    "f_temp.write(send)\n",
    "f_temp.close()"
   ]
  },
  {
   "cell_type": "code",
   "execution_count": null,
   "id": "a948f8fc",
   "metadata": {},
   "outputs": [],
   "source": [
    "\n"
   ]
  }
 ],
 "metadata": {
  "kernelspec": {
   "display_name": "Python 3",
   "language": "python",
   "name": "python3"
  },
  "language_info": {
   "codemirror_mode": {
    "name": "ipython",
    "version": 3
   },
   "file_extension": ".py",
   "mimetype": "text/x-python",
   "name": "python",
   "nbconvert_exporter": "python",
   "pygments_lexer": "ipython3",
   "version": "3.8.8"
  }
 },
 "nbformat": 4,
 "nbformat_minor": 5
}

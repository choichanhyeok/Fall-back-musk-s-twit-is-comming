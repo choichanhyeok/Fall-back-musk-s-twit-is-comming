{
 "cells": [
  {
   "cell_type": "markdown",
   "metadata": {},
   "source": [
    "## 업무 자동화를 위한 이메일(gmail) 송신 자동화"
   ]
  },
  {
   "cell_type": "markdown",
   "metadata": {},
   "source": [
    "### 1. 이메일 배경 지식 이해\n",
    "> 가볍게라도 배경 지식을 이해하고 있으면, 코드에 대한 이해를 높일 수 있음 <br>\n",
    "> 혹시 개발자를 목표로 하는 입문자라면 반드시 이해하고 있어야 하는 지식"
   ]
  },
  {
   "cell_type": "markdown",
   "metadata": {},
   "source": [
    "### 프로토콜\n",
    " \n",
    "- 컴퓨터간 통신을 하기 위한 규칙\n",
    "  - 독립적인 여러 규칙이 필요함\n",
    "\n",
    "<center><img src=\"https://www.fun-coding.org/00_Images/delivery.png\" width=400/></center>"
   ]
  },
  {
   "cell_type": "markdown",
   "metadata": {},
   "source": [
    "### 메일 서버 (SMTP와 POP3 프로토콜)\n",
    "- SMTP(Simple Mail Transfer Protocol): 메일 송신\n",
    "- POP3(Post Office Protocol): 메일 수신\n",
    "<center><img src=\"https://www.fun-coding.org/00_Images/mail_protocol.png\" width=600/></center>\n"
   ]
  },
  {
   "cell_type": "markdown",
   "metadata": {},
   "source": [
    "### SSL과 TLS 프로토콜\n",
    "- 일반 텍스트 대신, 데이터를 암호화하여 송수신하는 기술\n",
    "- SSL 프로토콜은 넷스케이프사에서 개발\n",
    "- 이를 국제 표준화하는 과정에서 SSL이 모기업 상용제품 이름과 동일하여, TLS로 이름을 변경\n",
    "- 따라서, SSL = TLS"
   ]
  },
  {
   "cell_type": "markdown",
   "metadata": {},
   "source": [
    "### 2. 파이썬으로 gmail 이메일 보내기 \n",
    "- 메일 서비스마다 해당 서비스에서 지원하는지 여부, 그리고 파이썬으로 이메일 송신하기 위한 다양한 옵션을 정확히 넣어줘야 함\n",
    "- 그러나, 지원이 안되거나, 관련 옵션을 정확히 알려주지 않는 서비스도 많음\n",
    "- gmail 이 가장 안전하며, gmail을 사용해서 다른 이메일 서비스에 메일을 송신하면 됨\n",
    "> 당연히 자신의 gmail 계정이 있어야 합니다. <br>\n"
   ]
  },
  {
   "cell_type": "markdown",
   "metadata": {},
   "source": [
    "### gmail 설정\n",
    "\n",
    "1. IMAP 사용 설정\n",
    "   - gmail 화면에서 설정 -> 전달 및 POP/IMAP 메뉴에서 IMAP 사용 선택 후, 변경사항 저장\n",
    "2. 보안 수준이 낮은 앱 허용: 사용 설정\n",
    "  - https://myaccount.google.com/lesssecureapps\n",
    "3. 자동화 스크립트로 메일 처음 송신 후, gmail 에서, 중요 보안 알림 메일 확인 후, 본인 활동 확인 을 명시해줌\n",
    "\n",
    "> 각 이메일 서비스마다 각 서비스에서 지원하는 설정을 해줘야 함 <br>\n",
    "> 경우에 따라 자동 이메일 서비스를 불허하는 이메일 서비스도 있음 (사내 메일 서비스등)"
   ]
  },
  {
   "cell_type": "markdown",
   "metadata": {},
   "source": [
    "### gmail 계정 데이터 숨기기\n",
    "> 파이썬 코드 상에 자신의 계정과 암호를 기입하지 않고, 계정과 암호 데이터를 사용할 수 있는 기법\n",
    "\n",
    "1. class101_autopython 폴더 안에 \n",
    "   - 텍스트 에디터로 settings.py 파일 생성\n",
    "   \n",
    "    ```python\n",
    "    GMAILID = '자신의 gmail 이메일 주소'\n",
    "    GMAILPW = '자신의 gmail 패스워드'\n",
    "    ```"
   ]
  },
  {
   "cell_type": "code",
   "execution_count": 3,
   "metadata": {
    "scrolled": true
   },
   "outputs": [
    {
     "name": "stdout",
     "output_type": "stream",
     "text": [
      "cksgurwkd12@gmail.com slqlrjf15$!\n"
     ]
    }
   ],
   "source": [
    "import account\n",
    "\n",
    "print (account.GMAILID, account.GMAILPW)"
   ]
  },
  {
   "cell_type": "markdown",
   "metadata": {},
   "source": [
    "<div class=\"alert alert-block\" style=\"border: 1px solid #FFB300;background-color:#F9FBE7;\">\n",
    "<font size=\"4em\" style=\"font-weight:bold;color:#3f8dbf;\">먼저 테스트 후, 코드 분석</font><br>\n",
    "</div>"
   ]
  },
  {
   "cell_type": "markdown",
   "metadata": {},
   "source": [
    "### 템플릿 코드11 사용법\n",
    "- send_email(from_user, to_users, cc_users, subject, attachment, text, text_format='html', smtp_server='smtp.gmail.com', smtp_port=587)\n",
    "  - from_user: 자신의 이메일 주소가 아니면 메일이 전송되지 않음 예: korea@gmail.com\n",
    "  - to_users: 송신할 이메일 주소 예: korea@gmail.com\n",
    "    - 여러명에게 송신할 경우 리스트 형태로 작성해줌 예: ['korea@gmail.com', 'korea@gmail.com']\n",
    "  - cc_users: 참조로 송신할 이메일 주소, to_users 와 동일 포멧\n",
    "  - subject: 이메일 타이틀 예: '프로젝트 현황 보고'\n",
    "  - attachment: 첨부파일 이름 예: 'tmp.csv'\n",
    "  - text: 이메일 본문, HTML 언어로도 작성 가능\n",
    "  - text_format (옵션)\n",
    "    - 'html' : HTML 언어로 작성된 이메일 본문\n",
    "    - 'plain' : 일반 텍스트로 작성된 이메일 본문\n",
    "  - smtp_server (옵션)\n",
    "    - 이메일 전송 서버 주소 예: 'smtp.gmail.com' (gmail)\n",
    "  - smtp_port (옵션)\n",
    "    - 이메일 전송 서버 포트 번호 예: 587 (gmail)"
   ]
  },
  {
   "cell_type": "markdown",
   "metadata": {},
   "source": [
    "### 최종 템플릿 코드"
   ]
  },
  {
   "cell_type": "code",
   "execution_count": 20,
   "metadata": {},
   "outputs": [],
   "source": [
    "import smtplib  \n",
    "from email.header import Header\n",
    "from email.mime.base import MIMEBase # MIME 프로토콜 활용 기능\n",
    "from email.mime.text import MIMEText # MIME 프로토콜 활용 기능\n",
    "from email.mime.multipart import MIMEMultipart # MIME 프로토콜 활용 기능\n",
    "from email import utils\n",
    "from email import encoders\n",
    "from email.utils import COMMASPACE\n",
    "import os\n",
    "\n",
    "import account # 자신의 gmail ID와 패스워드 저장\n",
    "\n",
    "def email_template(from_user, to_users, cc_users, subject, attachment, text, text_format='plain', smtp_server='smtp.gmail.com', smtp_port=587):\n",
    "\n",
    "    msg = MIMEMultipart('multipart')\n",
    "    msg['FROM'] = from_user\n",
    "    msg['To'] = COMMASPACE.join(to_users)\n",
    "    msg['Cc'] = COMMASPACE.join(cc_users)\n",
    "    msg['Subject'] = Header(s=subject, charset='utf-8')\n",
    "    msg['Date'] = utils.formatdate(localtime=1)\n",
    "\n",
    "    part = MIMEText(text, text_format)\n",
    "    msg.attach(part)\n",
    "\n",
    "    if attachment:\n",
    "        part = MIMEBase('application', \"octet-stream\")\n",
    "\n",
    "        part.set_payload(open(os.path.basename(attachment), \"rb\").read())\n",
    "        encoders.encode_base64(part)\n",
    "\n",
    "        part['Content-Disposition'] = 'attachment; filename=\"%s\"' % os.path.basename(attachment)\n",
    "        msg.attach(part)\n",
    "\n",
    "    # print(msg.as_string())\n",
    "    try:\n",
    "        server = smtplib.SMTP(smtp_server, smtp_port)\n",
    "        try:\n",
    "            server.ehlo()\n",
    "            server.starttls()\n",
    "            print('test')\n",
    "            server.login(account.GMAILID, account.GMAILPW)\n",
    "            server.sendmail(msg['FROM'], [msg['To'], msg['Cc']], msg.as_string())\n",
    "            print(\"[OK] send mail\")\n",
    "        except:\n",
    "            print(\"[Error] Fail to send mail\")\n",
    "\n",
    "        finally:\n",
    "            server.quit()  # smtp 연결 종료\n",
    "    except:\n",
    "        print(\"[Error] Fail to connect\")\n",
    "        return False"
   ]
  },
  {
   "cell_type": "markdown",
   "metadata": {},
   "source": [
    "### 이메일 송신에 필요한 정보 기입 (변수로 선언)"
   ]
  },
  {
   "cell_type": "code",
   "execution_count": 14,
   "metadata": {},
   "outputs": [],
   "source": [
    "from_user = account.GMAILID\n",
    "to_users = [account.GMAILID]\n",
    "cc_users = [account.GMAILID]\n",
    "attachment = 'tmp.csv'\n",
    "subject = '테스트 제목'\n",
    "text = '안녕하세요. 파이썬 자동화 이메일입니다.'"
   ]
  },
  {
   "cell_type": "code",
   "execution_count": 21,
   "metadata": {
    "scrolled": true
   },
   "outputs": [
    {
     "name": "stdout",
     "output_type": "stream",
     "text": [
      "test\n",
      "[Error] Fail to send mail\n"
     ]
    }
   ],
   "source": [
    "email_template(from_user, to_users, cc_users, subject, attachment, text, 'html')"
   ]
  },
  {
   "cell_type": "code",
   "execution_count": 13,
   "metadata": {},
   "outputs": [
    {
     "name": "stderr",
     "output_type": "stream",
     "text": [
      "ERROR: Could not find a version that satisfies the requirement smtplib (from versions: none)\n",
      "ERROR: No matching distribution found for smtplib\n",
      "WARNING: You are using pip version 21.3.1; however, version 22.0.4 is available.\n",
      "You should consider upgrading via the 'c:\\users\\cksgu\\anaconda3\\python.exe -m pip install --upgrade pip' command.\n"
     ]
    }
   ],
   "source": []
  },
  {
   "cell_type": "markdown",
   "metadata": {},
   "source": [
    "### 3. 템플릿 코드 분석\n",
    "- 필요한 라이브러리\n",
    "  - smtplib : SMTP 프로토콜 기반의 이메일 송신을 위한 라이브러리\n",
    "  - email : 이메일 데이터 구성을 위한 라이브러리\n",
    "  - os : 첨부파일에서 파일 위치를 찾기 위해 사용하는 라이브러리"
   ]
  },
  {
   "cell_type": "code",
   "execution_count": null,
   "metadata": {},
   "outputs": [],
   "source": [
    "import smtplib  \n",
    "from email.header import Header\n",
    "from email.mime.base import MIMEBase # MIME 프로토콜 활용 기능\n",
    "from email.mime.text import MIMEText # MIME 프로토콜 활용 기능\n",
    "from email.mime.multipart import MIMEMultipart # MIME 프로토콜 활용 기능\n",
    "from email import utils\n",
    "from email import encoders\n",
    "from email.utils import COMMASPACE\n",
    "import os\n",
    "\n",
    "import settings # 자신의 gmail ID와 패스워드 저장"
   ]
  },
  {
   "cell_type": "markdown",
   "metadata": {},
   "source": [
    "### 참고: MIME 프로토콜\n",
    "- MIME(Multi-purpose Internet Mail Extensions)\n",
    "  - SMTP 프로토콜은 텍스트(ASCII 코드)만 전송가능\n",
    "  - SMTP 본문 내용에 MIME 헤더와 함께, 다양한 포멧의 데이터(첨부파일등)를 ASCII 코드로 변환해서 전송\n",
    "  - 클라이언트에서 SMTP 본문 데이터를 MIME 헤더를 확인해서 디코딩하면 됨!\n",
    "\n",
    "- MIME 실제 예\n",
    "```\n",
    "MIME-Version: 1.0\n",
    "From: Dave Lee <jhleeroot@gmail.com>\n",
    "Date: Thu, 24 Nov 2016 19:35:27 +0900\n",
    "Subject: =?UTF-8?B?7J207KSA7Z2sIOyeheuLiOuLpC4gKOydvOyghOyXkCDtl\n",
    "Content-Type: multipart/alternative; boundary=001a113944905f64d4054209900f\n",
    "```\n",
    "\n",
    "> ASCII 코드 참고: https://ko.wikipedia.org/wiki/ASCII"
   ]
  },
  {
   "cell_type": "markdown",
   "metadata": {},
   "source": [
    "### 이해가 필요한 문법\n",
    "1. 함수에서 디폴트 인자값을 정의하는 기법 "
   ]
  },
  {
   "cell_type": "code",
   "execution_count": null,
   "metadata": {},
   "outputs": [],
   "source": [
    "def send_test(data1, smtp_server='smtp.gmail.com', smtp_port=587):\n",
    "    print (data1, smtp_server, smtp_port)"
   ]
  },
  {
   "cell_type": "code",
   "execution_count": null,
   "metadata": {},
   "outputs": [],
   "source": [
    "send_test(1)"
   ]
  },
  {
   "cell_type": "code",
   "execution_count": null,
   "metadata": {},
   "outputs": [],
   "source": [
    "send_test(2, 'aaa')"
   ]
  },
  {
   "cell_type": "code",
   "execution_count": null,
   "metadata": {},
   "outputs": [],
   "source": [
    "send_test(2, 'aaa', 'bbb')"
   ]
  },
  {
   "cell_type": "code",
   "execution_count": null,
   "metadata": {},
   "outputs": [],
   "source": [
    "send_test(2, smtp_port='ccc')"
   ]
  },
  {
   "cell_type": "markdown",
   "metadata": {},
   "source": [
    "2. 문자열 join 함수\n",
    "   - 구분 문자로 리스트 아이템값을 붙여서, 하나의 문자열로 만드는 함수"
   ]
  },
  {
   "cell_type": "code",
   "execution_count": null,
   "metadata": {},
   "outputs": [],
   "source": [
    "comma = ','\n",
    "datas1 = ['1', '2', '3']\n",
    "comma.join(datas1)"
   ]
  },
  {
   "cell_type": "markdown",
   "metadata": {},
   "source": [
    "### 사전(dictionary) 데이터 구조"
   ]
  },
  {
   "cell_type": "markdown",
   "metadata": {},
   "source": [
    "- 데이터 구조 (dictionary의 선언)"
   ]
  },
  {
   "cell_type": "code",
   "execution_count": null,
   "metadata": {},
   "outputs": [],
   "source": [
    "data_dict1 = dict()\n",
    "print(data_dict1)"
   ]
  },
  {
   "cell_type": "markdown",
   "metadata": {},
   "source": [
    "- dictionary는 key와 value로 이루어져 있으며, 추가하는 법은 다음과 같습니다."
   ]
  },
  {
   "cell_type": "code",
   "execution_count": null,
   "metadata": {},
   "outputs": [],
   "source": [
    "data_dict1 = {'name': 'foo bar'}\n",
    "print(data_dict1)\n",
    "\n",
    "data_dict1 = {'korean': 95, 'math': 100, 'science': [80, 70, 90, 60]}\n",
    "print(data_dict1)\n",
    "\n",
    "data_dict1['english'] = \"pass\"\n",
    "print(data_dict1)"
   ]
  },
  {
   "cell_type": "markdown",
   "metadata": {},
   "source": [
    "- 요소 삭제는 del을 활용합니다."
   ]
  },
  {
   "cell_type": "code",
   "execution_count": null,
   "metadata": {},
   "outputs": [],
   "source": [
    "del data_dict1['math']\n",
    "print(data_dict1)"
   ]
  },
  {
   "cell_type": "markdown",
   "metadata": {},
   "source": [
    "- 사전 변수의 전체 key 값 출력"
   ]
  },
  {
   "cell_type": "code",
   "execution_count": null,
   "metadata": {},
   "outputs": [],
   "source": [
    "data_dict1.keys()"
   ]
  },
  {
   "cell_type": "markdown",
   "metadata": {},
   "source": [
    "- 사전 변수의 전체 value 값 출력"
   ]
  },
  {
   "cell_type": "code",
   "execution_count": null,
   "metadata": {},
   "outputs": [],
   "source": [
    "data_dict1.values()"
   ]
  },
  {
   "cell_type": "markdown",
   "metadata": {},
   "source": [
    "### 코드 분석1: 이메일 데이터 구성\n",
    "\n",
    "- 이메일 데이터 구성\n",
    "  - 최근 이메일은 첨부파일등 다양한 데이터를 사용하므로, 다양한 데이터를 모두 다룰 수 있는 MIMEMultipart() 함수를 사용하여, 이메일 데이터 구성\n",
    "\n",
    "```python\n",
    "msg = MIMEMultipart('multipart') # 이메일 데이터 구성 포멧으로 MIMEMultipart() 을 사용\n",
    "msg['FROM'] = from_user # 송신자 이메일 계정\n",
    "msg['To'] = COMMASPACE.join(to_users) # 수신자 이메일이 리스트로 이루어져 있으면 , 로 각 이메일을 붙여서 하나의 문자열로 작성\n",
    "msg['Cc'] = COMMASPACE.join(cc_users) # 참조자 이메일이 리스트로 이루어져 있으면 , 로 각 이메일을 붙여서 하나의 문자열로 작성\n",
    "msg['Subject'] = Header(s=subject, charset='utf-8') # 메일 제목을 유니코드로 만들어서 넣기\n",
    "msg['Date'] = utils.formatdate(localtime=1) # 현재 시간 입력\n",
    "part = MIMEText(text, text_format) # 이메일 본문을 데이터 포멧 명시하여 구성 'plain' (일반 텍스트) 또는 'html' (HTML 코드)\n",
    "msg.attach(part) # 구성된 이메일 본문을 넣기\n",
    "```"
   ]
  },
  {
   "cell_type": "markdown",
   "metadata": {},
   "source": [
    "### 코드 분석2: 첨부 파일 데이터 구성\n",
    "\n",
    "- 이메일 첨부 파일 구성\n",
    "  - 이메일 송신시, 첨부 파일은 MIME 프로토콜의 application/octet-stream 타입으로 구성해야 함\n",
    "  - os.path.basename(파일위치) : 파일 위치와 파일명을 해당 폴더에서 찾는 기능\n",
    "    - open(os.path.basename(attachment), \"rb\").read() : 해당 파일을 읽기 모드로 전체 데이터를 읽음\n",
    "  - encoders.encode_base64(part) : 첨부 파일은 0과 1의 형태, 이를 텍스트(ASCII 코드)로 변환해줌\n",
    "    - SMTP 프로토콜은 ASCII 코드로만 데이터 송신이 가능하므로\n",
    "    - 첨부 파일을 ASCII 코드로 변환 후, 송신 후, 수신하는 이메일 서비스측에서 해당 데이터를 다시 0과 1로 변환하여 첨부 파일을 온전히 얻어냄\n",
    "  - part['Content-Disposition'] : 이메일 송신시, 첨부 파일 명시 필요  \n",
    "\n",
    "```python\n",
    "if attachment:\n",
    "    part = MIMEBase('application', \"octet-stream\") # MIME 프로토콜의 application/octet-stream 타입으로 구성\n",
    "    part.set_payload(open(os.path.basename(attachment), \"rb\").read()) # 첨부 파일을 읽어서, 이메일에 넣음\n",
    "    encoders.encode_base64(part) # 텍스트로 변환\n",
    "\n",
    "    part['Content-Disposition'] = 'attachment; filename=\"%s\"' % os.path.basename(attachment) # 첨부 파일 명시\n",
    "    msg.attach(part) # 이메일에 첨부 파일 첨부\n",
    "```\n"
   ]
  },
  {
   "cell_type": "markdown",
   "metadata": {},
   "source": [
    "### 참고: 구성된 이메일 데이터 확인"
   ]
  },
  {
   "cell_type": "code",
   "execution_count": null,
   "metadata": {},
   "outputs": [],
   "source": [
    "to_users = [settings.GMAILID]\n",
    "cc_users = [settings.GMAILID]\n",
    "from_user = settings.GMAILID\n",
    "attachment = 'tmp.csv'\n",
    "subject = '테스트 제목'\n",
    "text = '안녕하세요. 파이썬 자동화 이메일입니다.'\n",
    "text_format = 'plain'"
   ]
  },
  {
   "cell_type": "markdown",
   "metadata": {},
   "source": [
    "- 구성된 이메일 데이터는 msg.as_string() 함수로 문자열로 확인할 수 있음"
   ]
  },
  {
   "cell_type": "code",
   "execution_count": null,
   "metadata": {},
   "outputs": [],
   "source": [
    "msg = MIMEMultipart('multipart')\n",
    "msg['FROM'] = from_user\n",
    "msg['To'] = COMMASPACE.join(to_users)\n",
    "msg['Cc'] = COMMASPACE.join(cc_users)\n",
    "msg['Subject'] = Header(s=subject, charset='utf-8')\n",
    "msg['Date'] = utils.formatdate(localtime=1)\n",
    "\n",
    "part = MIMEText(text, text_format)\n",
    "msg.attach(part)\n",
    "\n",
    "if attachment:\n",
    "    part = MIMEBase('application', \"octet-stream\")\n",
    "\n",
    "    part.set_payload(open(os.path.basename(attachment), \"rb\").read())\n",
    "    encoders.encode_base64(part)\n",
    "\n",
    "    part['Content-Disposition'] = 'attachment; filename=\"%s\"' % os.path.basename(attachment)\n",
    "    msg.attach(part)\n",
    "\n",
    "print(msg.as_string())\n"
   ]
  },
  {
   "cell_type": "markdown",
   "metadata": {},
   "source": [
    "### 코드 분석3: 이메일 송신\n",
    "- 이메일 송신을 위한 SMTP 주소 설정\n",
    "  - gmail SMTP 서비스: smtp_server='smtp.gmail.com', smtp_port=587\n",
    "  - ehlo() : 설정된 SMTP 주소가 정상 동작하는지 확인을 위해, Hello 메세지를 송신\n",
    "  - starttls() : TLS 프로토콜로 송신할 데이터 암호화\n",
    "  - login() : gmail ID와 패스워드로 로그인\n",
    "  - sendemail(송신자, [수신자, 참조자], 이메일 데이터)\n",
    "  \n",
    "```python\n",
    "try:\n",
    "    server = smtplib.SMTP(smtp_server, smtp_port)\n",
    "    try:\n",
    "        server.ehlo()\n",
    "        server.starttls()\n",
    "        server.login(settings.GMAILID, settings.GMAILPW)\n",
    "        server.sendmail(msg['FROM'], [msg['To'], msg['Cc']], msg.as_string())\n",
    "        print(\"[OK] send mail\")\n",
    "    except:\n",
    "        print(\"[Error] Fail to send mail\")\n",
    "\n",
    "    finally:\n",
    "        server.quit()  # smtp 연결 종료\n",
    "except:\n",
    "    print(\"[Error] Fail to connect\")\n",
    "    return False\n",
    "\n",
    "```"
   ]
  },
  {
   "cell_type": "markdown",
   "metadata": {},
   "source": [
    "### 4. 업무 자동화를 위한 웹사이트 + 엑셀 파일 만들기 + 이메일 보내기"
   ]
  },
  {
   "cell_type": "code",
   "execution_count": null,
   "metadata": {},
   "outputs": [],
   "source": [
    "# 웹사이트 신규 기사 링크 템플릿\n",
    "\n",
    "import requests\n",
    "from bs4 import BeautifulSoup\n",
    "\n",
    "def crawling_template_with_href(url, css_selector, pre_url):\n",
    "    return_data = list()\n",
    "    res = requests.get(url)\n",
    "    soup = BeautifulSoup(res.content, 'html.parser')\n",
    "    datas1 = soup.select(css_selector)\n",
    "    for item in datas1:\n",
    "        return_data.append([item.get_text(), pre_url + item['href']])\n",
    "    return return_data"
   ]
  },
  {
   "cell_type": "code",
   "execution_count": null,
   "metadata": {},
   "outputs": [],
   "source": [
    "# 엑셀 링크 템플릿\n",
    "\n",
    "import openpyxl\n",
    "\n",
    "def write_excel_template_customize_link(filename, listdata):\n",
    "    excel_file = openpyxl.Workbook()\n",
    "    excel_sheet = excel_file.active\n",
    "    \n",
    "    # 타이틀 행은 여기에 적어주세요 예: excel_sheet.append(['', '제목', '링크'])\n",
    "    # A열, B열등 각 열의 사이즈는 여기에 적어주세요 예: excel_sheet.column_dimensions['A'].width = 80\n",
    "    excel_sheet.append([])\n",
    "    excel_sheet.append(['', '닥터 아파트 분양 기사 타이틀'])\n",
    "    excel_sheet.column_dimensions['B'].width = 80\n",
    "    thin = openpyxl.styles.Side(border_style=\"thin\", color=\"01579B\")\n",
    "    \n",
    "    for index, item in enumerate(listdata):\n",
    "        excel_sheet.append(['', item[0]])\n",
    "        excel_sheet.cell(row=index+3 , column=2).hyperlink = item[1]\n",
    "        excel_sheet.cell(row=index+3 , column=2).border = openpyxl.styles.Border(top=thin, left=thin, right=thin, bottom=thin)\n",
    "        \n",
    "    # 작성된 데이터를 기반으로 각 셀의 폰트 굵기/색, border, 정렬, 백그라운드 색은 여기에 적어주세요\n",
    "    # 예: \n",
    "\n",
    "    excel_sheet['B2'].alignment = openpyxl.styles.Alignment(horizontal='center') # 중앙정렬하기\n",
    "    excel_sheet['B2'].font = openpyxl.styles.Font(size=14, b=True, color=\"01579B\") # 폰트 색깔 바꾸기\n",
    "    excel_sheet['B2'].fill = openpyxl.styles.PatternFill(start_color=\"FFFDE7\", fill_type = \"solid\")\n",
    "    excel_sheet['B2'].border = openpyxl.styles.Border(top=thin, left=thin, right=thin, bottom=thin)\n",
    "\n",
    "    excel_file.save(filename)\n",
    "    excel_file.close()"
   ]
  },
  {
   "cell_type": "markdown",
   "metadata": {},
   "source": [
    "- 기능별 템플릿을 연결해서 보다 다양한 기능을 수행하는 자동화 코드 구현 가능"
   ]
  },
  {
   "cell_type": "code",
   "execution_count": null,
   "metadata": {},
   "outputs": [],
   "source": [
    "datas1 = crawling_template_with_href('http://www.drapt.com/e_sale/index.htm?page_name=esale_news&menu_key=34', 'a.c0000000', 'http://www.drapt.com/e_sale/')\n",
    "write_excel_template_customize_link('drapt_news.xlsx', datas1)"
   ]
  },
  {
   "cell_type": "code",
   "execution_count": null,
   "metadata": {},
   "outputs": [],
   "source": [
    "to_users = [settings.GMAILID]\n",
    "cc_users = [settings.GMAILID]\n",
    "from_user = settings.GMAILID\n",
    "attachment = 'drapt_news.xlsx'\n",
    "subject = '분양 뉴스'\n",
    "text = '안녕하세요. 분양 뉴스 리스트 송부드립니다.'"
   ]
  },
  {
   "cell_type": "code",
   "execution_count": null,
   "metadata": {},
   "outputs": [],
   "source": [
    "email_template(from_user, to_users, cc_users, subject, attachment, text)"
   ]
  },
  {
   "cell_type": "markdown",
   "metadata": {},
   "source": [
    "### 5. (참고: 중급) HTML 을 사용한 이메일 본문 작성하기"
   ]
  },
  {
   "cell_type": "markdown",
   "metadata": {},
   "source": [
    "### HTML과 CSS를 잘 사용할 수 있다면 ... \n",
    "\n",
    "> 더 다양한 기능이 되지만, 깊고 복잡한 내용, 자칫 HTML/CSS 수업이 될 수 있으므로, 가장 간단한 내용만 다룹니다. <br>\n",
    "> 더 필요한 부분은 1:1 코칭을 통해, 각자 상황에 맞게 설명드립니다.\n",
    "\n",
    "\n",
    "```html\n",
    "- a 태그 : <a href='주소'>타이틀</a>\n",
    "- table 태그 : \n",
    "    <table border=1 cellspacing=0>\n",
    "        <tr>\n",
    "            <td>내용1</td>\n",
    "        </tr>\n",
    "    </table>\n",
    "- br 태그 (줄바꿈) : <br> \n",
    "- ul li 태그 :\n",
    "    <ul>\n",
    "        <li>리스트1</li>\n",
    "        <li>리스트2</li>        \n",
    "    </ul>\n",
    "```"
   ]
  },
  {
   "cell_type": "code",
   "execution_count": null,
   "metadata": {
    "scrolled": true
   },
   "outputs": [],
   "source": [
    "for item in datas1:\n",
    "    print (item[0], item[1])"
   ]
  },
  {
   "cell_type": "markdown",
   "metadata": {},
   "source": [
    "#### 1. text_format 옵션을 'html' 로 선언"
   ]
  },
  {
   "cell_type": "code",
   "execution_count": null,
   "metadata": {},
   "outputs": [],
   "source": [
    "to_users = [settings.GMAILID]\n",
    "cc_users = [settings.GMAILID]\n",
    "from_user = settings.GMAILID\n",
    "attachment = 'drapt_news.xlsx'\n",
    "subject = '분양 뉴스'\n",
    "text_format = 'html'"
   ]
  },
  {
   "cell_type": "markdown",
   "metadata": {},
   "source": [
    "- 문자열 여러 줄을 하나의 데이터 변수에 넣기\n",
    "  - 따옴표 세 개로 가능"
   ]
  },
  {
   "cell_type": "code",
   "execution_count": null,
   "metadata": {},
   "outputs": [],
   "source": [
    "text = \"\"\"\n",
    "안녕하세요. Dave Lee 입니다. <br>\n",
    "신규 분양 뉴스 리스트를 송부드립니다. <br>\n",
    "<br>\n",
    "감사합니다. <br>\n",
    "\"\"\""
   ]
  },
  {
   "cell_type": "markdown",
   "metadata": {},
   "source": [
    "#### 2. 이메일 본문 구성하기"
   ]
  },
  {
   "cell_type": "code",
   "execution_count": null,
   "metadata": {},
   "outputs": [],
   "source": [
    "text += '<ul>'\n",
    "for item in datas1:\n",
    "    text += '<li><a href=' + item[1] + '>' + item[0] + '</a></li>'\n",
    "text += '</ul>'"
   ]
  },
  {
   "cell_type": "code",
   "execution_count": null,
   "metadata": {},
   "outputs": [],
   "source": [
    "text"
   ]
  },
  {
   "cell_type": "markdown",
   "metadata": {},
   "source": [
    "#### 3. 이메일 송신하기\n",
    "- text_format 도 인자로 넣어줌"
   ]
  },
  {
   "cell_type": "code",
   "execution_count": null,
   "metadata": {},
   "outputs": [],
   "source": [
    "email_template(from_user, to_users, cc_users, subject, attachment, text, text_format)"
   ]
  },
  {
   "cell_type": "code",
   "execution_count": null,
   "metadata": {},
   "outputs": [],
   "source": []
  }
 ],
 "metadata": {
  "kernelspec": {
   "display_name": "Python 3",
   "language": "python",
   "name": "python3"
  },
  "language_info": {
   "codemirror_mode": {
    "name": "ipython",
    "version": 3
   },
   "file_extension": ".py",
   "mimetype": "text/x-python",
   "name": "python",
   "nbconvert_exporter": "python",
   "pygments_lexer": "ipython3",
   "version": "3.8.8"
  },
  "nbTranslate": {
   "displayLangs": [
    "*"
   ],
   "hotkey": "alt-t",
   "langInMainMenu": true,
   "sourceLang": "en",
   "targetLang": "fr",
   "useGoogleTranslate": true
  }
 },
 "nbformat": 4,
 "nbformat_minor": 2
}
